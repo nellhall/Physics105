{
 "cells": [
  {
   "cell_type": "markdown",
   "metadata": {},
   "source": [
    "# P105 HW 11 Euler computational problem"
   ]
  },
  {
   "cell_type": "markdown",
   "metadata": {},
   "source": [
    "Written by Ben Foster\n",
    "\n",
    "### Learning objectives\n",
    "In this question you will:\n",
    "\n",
    "- analytically derive Euler's equations and study the behaviour near equilibria\n",
    "- numerically solve the equations and compare to theoretical expectations\n",
    "- simulate the free rotation of real objects and compare to empirical evidence\n"
   ]
  },
  {
   "cell_type": "markdown",
   "metadata": {
    "flags": [
     "problems",
     "solutions"
    ]
   },
   "source": [
    "Let us study the rotation of a rigid body. Recall the definitions of the angular velocity vector $\\boldsymbol\\omega$, the moment of inertia tensor $I_{ij} = \\int d^3\\mathbf{r}\\:\\rho(\\mathbf r)(r^2\\delta_{ij}-r_ir_j)$, and angular momentum vector $\\mathbf L=I\\cdot \\boldsymbol\\omega$. Recall that the torque determines the rate of change of angular momentum $\\boldsymbol\\tau = \\dot{\\mathbf L}$."
   ]
  },
  {
   "cell_type": "markdown",
   "metadata": {
    "flags": [
     "problems",
     "solutions"
    ]
   },
   "source": [
    "Let's analyse the system in the body-frame in which the moment of inertia is diagonal, i.e. $$I=\\begin{pmatrix}I_1&0&0\\\\0&I_2&0\\\\0&0&I_3\\end{pmatrix}.$$ Let's call the basis vectors $\\mathbf e_1$, $\\mathbf e_2$, and $\\mathbf e_3$. Don't forget that $\\mathbf e_i$ change with time. In this basis, the angular momentum is $\\mathbf L = I_1 \\omega_1\\mathbf e_1 + I_2\\omega_2\\mathbf e_2 + I_3\\omega_3\\mathbf e_3$. \n",
    "\n",
    "In the absence of torques, $\\mathbf L$ is conserved, i.e. $$\\dot{\\mathbf L} = I_1 \\dot{\\omega}_1\\mathbf e_1 + I_2\\dot{\\omega}_2\\mathbf e_2 + I_3\\dot{\\omega}_3\\mathbf e_3 + I_1 \\omega_1\\dot{\\mathbf e}_1 + I_2\\omega_2\\dot{\\mathbf e}_2 + I_3\\omega_3\\dot{\\mathbf e}_3=0.$$ Now the rates of change of the basis vectors are \\begin{align}\\dot{\\mathbf e}_1=\\boldsymbol\\omega\\times\\mathbf e_1=\\omega_3\\mathbf e_2-\\omega_2\\mathbf e_3,\\\\\\dot{\\mathbf e}_2=\\boldsymbol\\omega\\times\\mathbf e_2=\\omega_1\\mathbf e_3-\\omega_3\\mathbf e_1,\\\\\\dot{\\mathbf e}_3=\\boldsymbol\\omega\\times\\mathbf e_3=\\omega_2\\mathbf e_1-\\omega_1\\mathbf e_2.\\end{align}\n",
    "\n",
    "Plugging this back into the conservation of angular momentum, we obtain $$(I_1\\dot\\omega_1-I_2\\omega_2\\omega_3+I_3\\omega_3\\omega_2)\\mathbf e_1+(I_2\\dot\\omega_2+I_1\\omega_1\\omega_3-I_3\\omega_3\\omega_1)\\mathbf e_2+(I_3\\dot\\omega_3-I_1\\omega_1\\omega_2+I_2\\omega_2\\omega_1)\\mathbf e_3=0,$$ which are the Euler equations.\n",
    "\n",
    "\n",
    "\\begin{align}I_1\\dot\\omega_1&=(I_2-I_3)\\omega_2\\omega_3,\\\\I_2\\dot\\omega_2&=(I_3-I_1)\\omega_1\\omega_3,\\\\I_3\\dot\\omega_3&=(I_1-I_2)\\omega_1\\omega_2.\\end{align} "
   ]
  },
  {
   "cell_type": "markdown",
   "metadata": {},
   "source": [
    "### 1a. "
   ]
  },
  {
   "cell_type": "markdown",
   "metadata": {
    "flags": [
     "problems",
     "solutions"
    ]
   },
   "source": [
    "Fill in the following function to numerically integrate the Euler equations. No need to use a sophisticated integrator; we can use small step sizes if required.  \n",
    "If you need background on numerical integration schemes, please see the section $\\textit{Solving  Differential  Equations}$ in the $\\textit{Intro to Numerics}$ python tutorial provided at the beginning of the year (accessible here: http://datahub.berkeley.edu/user-redirect/interact?account=berkeley-physics&repo=intro_python&branch=master&path=Intro%20to%20numerics.ipynb)"
   ]
  },
  {
   "cell_type": "code",
   "execution_count": null,
   "metadata": {
    "flags": [
     "problems"
    ],
    "scrolled": true
   },
   "outputs": [],
   "source": [
    "import numpy as np\n",
    "\n",
    "def euler(omega0, I1, I2, I3, times):\n",
    "    \"\"\"\n",
    "    (All quantities in body frame, in diagonal basis of inertia tensor)\n",
    "    omega0: initial angular velocity, array of shape (3,) \n",
    "    I1,I2,I3: principal moments of inertia, scalars\n",
    "    times: array of times at which to find omega, array of shape (N,)\n",
    "    returns: omegas at times, array of shape (3,N)\n",
    "    \"\"\"\n",
    "    omegas = #compute omegas\n",
    "    return omegas"
   ]
  },
  {
   "cell_type": "markdown",
   "metadata": {},
   "source": [
    "### 1b. "
   ]
  },
  {
   "cell_type": "markdown",
   "metadata": {
    "flags": [
     "problems",
     "solutions"
    ]
   },
   "source": [
    "What happens when $\\boldsymbol\\omega_0$ is aligned with one of the principal moments of inertia? Check that your function `euler()` returns what you expect in this situation. Also, try writing $\\omega = (\\omega_0,\\epsilon,\\epsilon)$ for the case of an axisymmetric object with $I_2=I_3$.  Does the time series of $\\omega$ behave as expected?"
   ]
  },
  {
   "cell_type": "code",
   "execution_count": null,
   "metadata": {
    "collapsed": true
   },
   "outputs": [],
   "source": [
    "#Write your code here"
   ]
  },
  {
   "cell_type": "markdown",
   "metadata": {},
   "source": [
    "and write your answer here"
   ]
  },
  {
   "cell_type": "markdown",
   "metadata": {},
   "source": [
    "### 1c. \n"
   ]
  },
  {
   "cell_type": "markdown",
   "metadata": {},
   "source": [
    "We show that if two of the principal moments are equal, then $\\omega$ precesses around the third principal moment. (Think of a spinning coin without gravity, or an American football.) Then we can find the angular velocity of precession $\\omega_p=\\frac{2\\pi}{T_p}$ in terms of the parameters already defined.\n",
    "\n",
    "Let's label the unique moment $I_3$, and the others $I=I_{12}$. If $I_3>I_{12}$, we call the object oblate, and $I_3$ is in the short dimension of e.g. a coin. If $I_3<I_{12}$, we call the object prolate, and $I_3$ is in the long dimension of e.g. an American football. \n",
    "\n",
    "$\\dot\\omega_3\\propto I_1-I_2=0$, so $\\omega_3$ is constant. This means that the equations for $\\omega_1$ and $\\omega_2$ are coupled, linear first order ODEs, which are solved by simple harmonic oscillations that you are no doubt familiar with by now. We can substitute them into second order uncoupled ODEs, $$\\ddot\\omega_1=\\frac{I_{12}-I_3}{I_{12}}\\omega_3\\dot\\omega_2=-\\frac{(I_{12}-I_3)^2}{I_{12}^2}\\omega_3^2\\omega_1=-\\omega_p^2\\omega_1,$$ so $$\\omega_p=\\frac{I_3-I_{12}}{I_{12}}\\omega_3.$$"
   ]
  },
  {
   "cell_type": "markdown",
   "metadata": {},
   "source": [
    "Use your solution `euler()` to estimate the precession rate $\\omega_p$ of an object with $I_3=2$, $I_{12}=1$, and $\\boldsymbol\\omega = (1,1,1)^T$ (e.g. you can find the first non-zero time when $|\\boldsymbol\\omega-\\boldsymbol\\omega_0|<\\epsilon$ for some $\\epsilon\\ll1$). Compare with theoretical expectations."
   ]
  },
  {
   "cell_type": "code",
   "execution_count": null,
   "metadata": {},
   "outputs": [],
   "source": [
    "#Write your code here"
   ]
  },
  {
   "cell_type": "markdown",
   "metadata": {},
   "source": [
    "### 1d. "
   ]
  },
  {
   "cell_type": "markdown",
   "metadata": {
    "flags": [
     "problems",
     "solutions"
    ]
   },
   "source": [
    "Recall than in torque-free motion the energy is given by the kinetic energy, $T=\\frac{1}{2}\\boldsymbol\\omega\\cdot I\\cdot\\boldsymbol\\omega.$ Fill in the following function that calculates the energy from a given $\\boldsymbol\\omega$ and $I$ in the preferred body frame."
   ]
  },
  {
   "cell_type": "code",
   "execution_count": null,
   "metadata": {
    "collapsed": true,
    "flags": [
     "problems"
    ]
   },
   "outputs": [],
   "source": [
    "def energy(omega,I1,I2,I3):\n",
    "    \"\"\"\n",
    "    omega: angular velocity vector, shape (3,)\n",
    "    I1,I2,I3: principal moments of inertia, scalars\n",
    "    returns: energy, scalar\n",
    "    \"\"\"\n",
    "    return #energy"
   ]
  },
  {
   "cell_type": "markdown",
   "metadata": {},
   "source": [
    "### 1e. "
   ]
  },
  {
   "cell_type": "markdown",
   "metadata": {
    "flags": [
     "problems",
     "solutions"
    ]
   },
   "source": [
    "In $\\boldsymbol\\omega$-space, what shape do the energy contours take? Recall that since energy is conserved, $\\boldsymbol\\omega$ is constrained to be on such surfaces.\n",
    "\n",
    "The following function is supposed to plot multiple trajectories overlaid on the allowed energy surface. It is almost complete, except that it currently plots the energy surface as the unit sphere regardless of input. Complete the function. (Hint: you can obtain the energy surfaces by re-scaling the dimensions of a sphere.)"
   ]
  },
  {
   "cell_type": "code",
   "execution_count": null,
   "metadata": {
    "collapsed": true,
    "flags": [
     "problems"
    ]
   },
   "outputs": [],
   "source": [
    "from matplotlib import pyplot as plt\n",
    "from mpl_toolkits.mplot3d import Axes3D\n",
    "%matplotlib notebook\n",
    "#use %matplotlib inline if notebook doesn't work..\n",
    "\n",
    "def plot_trajectories(trajectories,I1,I2,I3):\n",
    "    \"\"\"\n",
    "    trajectories: array of shape (M,N,3) containing M omega vectors at N time-steps\n",
    "                (all omega vectors assumed to be at the same energy)\n",
    "    I1, I2, I3: principal moments of inertia\n",
    "    returns nothing, plots trajectories as lines in 3d plot overlaid on energy \n",
    "                ellipsoid (using energy of first omega vector of first trajectory)\n",
    "    \"\"\"\n",
    "    N = 20\n",
    "    theta,phi = np.linspace(0,np.pi,N),np.linspace(0,2*np.pi,2*N)\n",
    "    theta, phi = np.meshgrid(theta, phi)\n",
    "    \n",
    "    T = energy(trajectories[0,0],I1,I2,I3)\n",
    "\n",
    "    #Hint: rescale variables (multiply x,y,z with a factor each)\n",
    "    x = np.sin(theta)*np.cos(phi)\n",
    "    y = np.sin(theta)*np.sin(phi)\n",
    "    z = np.cos(theta)\n",
    "\n",
    "    fig = plt.figure(figsize=(8,8))\n",
    "    ax = Axes3D(fig)\n",
    "    ax.plot_surface(x,y,z,alpha=.2,facecolors=[[\"w\"]*N]*2*N)\n",
    "    ax.set_xlabel(\"$\\omega_1$\")\n",
    "    ax.set_ylabel(\"$\\omega_2$\")\n",
    "    ax.set_zlabel(\"$\\omega_3$\")\n",
    "    \n",
    "    bound = np.amax([x,y,z])\n",
    "    ax.set_xlim(-bound,bound)\n",
    "    ax.set_ylim(-bound,bound)\n",
    "    ax.set_zlim(-bound,bound)\n",
    "    \n",
    "    for omegas in trajectories:\n",
    "        ax.plot(*omegas.T)"
   ]
  },
  {
   "cell_type": "code",
   "execution_count": null,
   "metadata": {
    "collapsed": true
   },
   "outputs": [],
   "source": [
    "#Write your answer here"
   ]
  },
  {
   "cell_type": "markdown",
   "metadata": {},
   "source": [
    "### 1f. "
   ]
  },
  {
   "cell_type": "markdown",
   "metadata": {
    "flags": [
     "problems",
     "solutions"
    ]
   },
   "source": [
    "The following cell plots the trajectories of some randomly chosen initial $\\boldsymbol\\omega$s. \n",
    "Plot the solutions using your implementation of euler for these random initial conditions\n",
    "\n",
    "Now try increasing the step size. What happens? What does this tell you about the integrator you are using?"
   ]
  },
  {
   "cell_type": "code",
   "execution_count": null,
   "metadata": {
    "flags": [
     "problems"
    ]
   },
   "outputs": [],
   "source": [
    "def get_random_initials(I1,I2,I3,energy=1,n=10):\n",
    "    \"\"\"\n",
    "    I1,I2,I3: principal moments of inertia, scalars\n",
    "    energy: energy of initial states\n",
    "    n: number of points to sample\n",
    "    returns: n randomly chosen omega vectors with given energy\n",
    "    \"\"\"\n",
    "    randoms = np.zeros((n,3))\n",
    "    for i in range(n): #sample uniformly from sphere using rejection\n",
    "        x = np.random.rand(3)*2-1\n",
    "        r = np.sum(x**2)\n",
    "        while r > 1:\n",
    "            x = np.random.rand(3)*2-1\n",
    "            r = np.sum(x**2)\n",
    "        randoms[i] = x/r**.5\n",
    "    randoms[:,0] = randoms[:,0]*(2*energy/I1)**.5\n",
    "    randoms[:,1] = randoms[:,1]*(2*energy/I2)**.5\n",
    "    randoms[:,2] = randoms[:,2]*(2*energy/I3)**.5\n",
    "    return randoms\n",
    "\n",
    "I = 2,1,0.5\n",
    "omega0s = get_random_initials(*I)\n",
    "times = np.linspace(0,20,10000)\n",
    "traj = np.array([euler(o,*I,times) for o in omega0s])\n",
    "plot_trajectories(traj,*I)"
   ]
  },
  {
   "cell_type": "code",
   "execution_count": null,
   "metadata": {
    "collapsed": true
   },
   "outputs": [],
   "source": []
  }
 ],
 "metadata": {
  "kernelspec": {
   "display_name": "Python 3 (ipykernel)",
   "language": "python",
   "name": "python3"
  },
  "language_info": {
   "codemirror_mode": {
    "name": "ipython",
    "version": 3
   },
   "file_extension": ".py",
   "mimetype": "text/x-python",
   "name": "python",
   "nbconvert_exporter": "python",
   "pygments_lexer": "ipython3",
   "version": "3.9.15"
  }
 },
 "nbformat": 4,
 "nbformat_minor": 2
}
